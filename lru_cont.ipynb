{
 "cells": [
  {
   "cell_type": "code",
   "execution_count": 1,
   "metadata": {
    "collapsed": false
   },
   "outputs": [],
   "source": [
    "__author__ = 'Nishant'\n",
    "import numpy as np\n",
    "class lru_cont:\n",
    "\n",
    "    def __init__(self, cap):\n",
    "        self.cache_count =0\n",
    "        self.avg =0\n",
    "        self.capacity=cap\n",
    "        self.r_cache = np.zeros(cap)\n",
    "        \n",
    "    def get_capacity(self):\n",
    "        return self.capacity\n",
    "    \n",
    "    def set(self, val):\n",
    "        if(self.cache_count < self.capacity):\n",
    "            self.r_cache[self.cache_count] = val\n",
    "            self.avg = np.average(self.r_cache[:self.cache_count+1])\n",
    "        else:\n",
    "            top = self.r_cache[0]\n",
    "            self.r_cache=np.append(self.r_cache[1:],[val])\n",
    "            self.avg = np.average(self.r_cache)\n",
    "        self.cache_count+=1\n",
    "        \n",
    "    def get_average(self):\n",
    "        return self.avg\n",
    "    \n",
    "    def get_items(self):\n",
    "        return self.r_cache\n",
    "        \n",
    "    "
   ]
  },
  {
   "cell_type": "code",
   "execution_count": null,
   "metadata": {
    "collapsed": true
   },
   "outputs": [],
   "source": []
  }
 ],
 "metadata": {
  "kernelspec": {
   "display_name": "Python [Root]",
   "language": "python",
   "name": "Python [Root]"
  },
  "language_info": {
   "codemirror_mode": {
    "name": "ipython",
    "version": 3
   },
   "file_extension": ".py",
   "mimetype": "text/x-python",
   "name": "python",
   "nbconvert_exporter": "python",
   "pygments_lexer": "ipython3",
   "version": "3.5.1"
  }
 },
 "nbformat": 4,
 "nbformat_minor": 0
}
