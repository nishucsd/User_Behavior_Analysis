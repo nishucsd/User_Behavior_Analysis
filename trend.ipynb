{
 "cells": [
  {
   "cell_type": "code",
   "execution_count": 5,
   "metadata": {
    "collapsed": true
   },
   "outputs": [],
   "source": []
  },
  {
   "cell_type": "code",
   "execution_count": 23,
   "metadata": {
    "collapsed": false
   },
   "outputs": [],
   "source": [
    "__author__ = 'Nishant'\n",
    "from lru import LRU\n",
    "from lru_cont3 import lru_cont as lru2\n",
    "import numpy as np\n",
    "from scipy import spatial\n",
    "class trend:\n",
    "    def __init__(self, c_ip, c_times, c_domains, c_rows, c_events, c_users ):\n",
    "        self.topic_count =1\n",
    "        self.l1 = LRU(c_ip)\n",
    "        self.l2 = LRU(c_times)\n",
    "        self.l3 = LRU(c_domains)\n",
    "        self.l4 = LRU(c_users)\n",
    "        \n",
    "        self.l5 = lru2(c_rows)\n",
    "        self.l6 = lru2(c_events)\n",
    "         \n",
    "    def set_cate(self, f_dic, topic_cache):\n",
    "        for k in f_dic.keys():\n",
    "            v = lru.get(k,0)\n",
    "            lru[k]=v+f_dic[k]\n",
    "    \n",
    "    def set_cont(self, val, topic_cache):\n",
    "        topic_cache.set(val)\n",
    " \n",
    "    def set_cluster(self, u_act):\n",
    "        self.set_cate(u_act[1][0][0],self.l1)\n",
    "        self.set_cate(u_act[1][0][1],self.l2)\n",
    "        self.set_cate(u_act[1][0][2],self.l3)\n",
    "        \n",
    "        self.set_cate({u_act[0]:1},self.l4)\n",
    "        self.set_cont(u_act[1][1][0],self.l5)\n",
    "        self.set_cont(u_act[1][1][1],self.l6)\n",
    "        self.self.topic_count+=1\n",
    " \n",
    "    def get_similarity(self,u_act):\n",
    "        ip_sum = 1\n",
    "        time_sum = 1\n",
    "        domain_sum = 1\n",
    "        ip_match =0\n",
    "        time_match=0\n",
    "        domain_match=0\n",
    "        h_ind =0\n",
    "        u_ind =0\n",
    "        w_ind =0\n",
    "        c=0\n",
    "        i1 = self.l1.get_size()\n",
    "        t1 = self.l2.get_size()\n",
    "        d1 = self.l3.get_size()\n",
    "        for ip in u_act[1][0][0]:\n",
    "            ip_sum+= self.l1.get(ip,0)\n",
    "            if(self.l1.has_key(ip)):\n",
    "#                 ind = self.l1.keys().index(h)\n",
    "#                 h_ind+= h1 - ind\n",
    "                ip_match+= 1\n",
    "        for time in u_act[1][0][1]:\n",
    "            time_sum+= self.l2.get(time,0)\n",
    "            if(self.l2.has_key(time)):\n",
    "                time_match+=1\n",
    "#                 u_ind+= u1 - self.l2.keys().index(u)\n",
    "        for domain in u_act[1][0][2]:\n",
    "            domain_sum+= self.l3.get(domain,0)\n",
    "            if(self.l3.has_key(domain)):\n",
    "                domain_match+= 1\n",
    "#                 w_ind+= w1 - self.l3.keys().index(w)\n",
    "#         if(h_match !=0):\n",
    "#             c = h_match -1\n",
    "        # print(h_ind,h1,u_ind,u1,w_ind,w1, h_sum,w_sum,)\n",
    "        sim_cate = (ip_match/(i1+1))*(ip_sum/sum(self.l1.values() +[1])) + (time_match/(t1+1))*(time_sum/sum(self.l2.values()+[1])) + (domain_match/(d1+1))*(domain_sum/sum(self.l3.values()+[1])) \n",
    "        \n",
    "        print(\"similarity\", sim_cate)\n",
    "        vec1 = [u_act[1][1][0],u_act[1][1][1]]\n",
    "        vec_avg = [self.l5.get_average(),self.l6.get_average()]\n",
    "        result = 1 - spatial.distance.cosine(vec1, vec_avg)\n",
    "        similarity = np.linalg.norm([sim_cate, result])\n",
    "        return similarity\n",
    "#     def get_similarity():"
   ]
  },
  {
   "cell_type": "code",
   "execution_count": 25,
   "metadata": {
    "collapsed": false
   },
   "outputs": [
    {
     "data": {
      "text/plain": [
       "0.0"
      ]
     },
     "execution_count": 25,
     "metadata": {},
     "output_type": "execute_result"
    }
   ],
   "source": [
    "np.linalg.norm([0,0])"
   ]
  },
  {
   "cell_type": "code",
   "execution_count": 26,
   "metadata": {
    "collapsed": false
   },
   "outputs": [
    {
     "name": "stderr",
     "output_type": "stream",
     "text": [
      "C:\\Users\\nisagarw\\AppData\\Local\\Continuum\\Anaconda3\\lib\\site-packages\\scipy\\spatial\\distance.py:329: RuntimeWarning: invalid value encountered in true_divide\n",
      "  dist = 1.0 - np.dot(u, v) / (norm(u) * norm(v))\n"
     ]
    },
    {
     "data": {
      "text/plain": [
       "nan"
      ]
     },
     "execution_count": 26,
     "metadata": {},
     "output_type": "execute_result"
    }
   ],
   "source": [
    "spatial.distance.cosine([1,0,0], [0,0,0])"
   ]
  },
  {
   "cell_type": "code",
   "execution_count": null,
   "metadata": {
    "collapsed": true
   },
   "outputs": [],
   "source": []
  }
 ],
 "metadata": {
  "anaconda-cloud": {},
  "kernelspec": {
   "display_name": "Python [Root]",
   "language": "python",
   "name": "Python [Root]"
  },
  "language_info": {
   "codemirror_mode": {
    "name": "ipython",
    "version": 3
   },
   "file_extension": ".py",
   "mimetype": "text/x-python",
   "name": "python",
   "nbconvert_exporter": "python",
   "pygments_lexer": "ipython3",
   "version": "3.5.1"
  }
 },
 "nbformat": 4,
 "nbformat_minor": 0
}
