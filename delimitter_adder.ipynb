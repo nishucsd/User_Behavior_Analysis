{
 "cells": [
  {
   "cell_type": "code",
   "execution_count": 1,
   "metadata": {
    "collapsed": true
   },
   "outputs": [],
   "source": [
    "import os\n",
    "import sys\n",
    "\n",
    "# For Mac OS X and Linux\n",
    "#spark_path = \"/opt/spark\"\n",
    "# For Windows 7+\n",
    "spark_path = \"C:/opt/spark\"\n",
    "\n",
    "os.environ['SPARK_HOME'] = spark_path\n",
    "os.environ['HADOOP_HOME'] = spark_path\n",
    "\n",
    "sys.path.append(spark_path + \"/bin\")\n",
    "sys.path.append(spark_path + \"/python\")\n",
    "sys.path.append(spark_path + \"/python/pyspark/\")\n",
    "sys.path.append(spark_path + \"/python/lib\")\n",
    "sys.path.append(spark_path + \"/python/lib/pyspark.zip\")\n",
    "sys.path.append(spark_path + \"/python/lib/py4j-0.9-src.zip\")\n",
    "\n",
    "from pyspark import SparkContext\n",
    "from pyspark import SparkConf\n",
    "\n",
    "sc = SparkContext(\"local\", \"test\")"
   ]
  },
  {
   "cell_type": "code",
   "execution_count": 2,
   "metadata": {
    "collapsed": false
   },
   "outputs": [
    {
     "data": {
      "text/plain": [
       "<pyspark.conf.SparkConf at 0x4742048>"
      ]
     },
     "execution_count": 2,
     "metadata": {},
     "output_type": "execute_result"
    }
   ],
   "source": [
    "sc._conf.set('spark.executor.memory','32g').set('spark.driver.memory','32g').set('spark.driver.maxResultsSize','0')"
   ]
  },
  {
   "cell_type": "code",
   "execution_count": 5,
   "metadata": {
    "collapsed": true
   },
   "outputs": [],
   "source": [
    "import glob\n",
    "path = 'C:\\\\Users\\\\nisagarw\\\\Data\\\\poc_data_sorted\\\\*'\n",
    "files = glob.glob(path)  "
   ]
  },
  {
   "cell_type": "code",
   "execution_count": 6,
   "metadata": {
    "collapsed": true
   },
   "outputs": [],
   "source": [
    "import ujson\n",
    "import socket, struct\n",
    "\n",
    "def is_json(myjson):\n",
    "        try:\n",
    "            json_object = ujson.loads(myjson)\n",
    "            p1 = (json_object[\"User\"][\"User\"])\n",
    "        except ValueError as e:\n",
    "            return False\n",
    "        except KeyError as e2:\n",
    "            return False\n",
    "        except:\n",
    "            return False\n",
    "        return True\n",
    "\n",
    "\n",
    "\n",
    "# In[8]:\n",
    "\n",
    "def safe_parse(raw_json):\n",
    "    return raw_json.filter(lambda t : is_json(t)).map(lambda myjson : ujson.loads(myjson))\n",
    "    pass"
   ]
  },
  {
   "cell_type": "code",
   "execution_count": 11,
   "metadata": {
    "collapsed": false
   },
   "outputs": [
    {
     "data": {
      "text/plain": [
       "['C:\\\\Users\\\\nisagarw\\\\Data\\\\poc_data_sorted\\\\sats_events_2015-06-01-07-44-25_2015-06-02-07-44-25',\n",
       " 'C:\\\\Users\\\\nisagarw\\\\Data\\\\poc_data_sorted\\\\sats_events_2015-06-02-07-44-25_2015-06-03-07-44-25',\n",
       " 'C:\\\\Users\\\\nisagarw\\\\Data\\\\poc_data_sorted\\\\sats_events_2015-06-03-07-44-25_2015-06-04-07-44-25',\n",
       " 'C:\\\\Users\\\\nisagarw\\\\Data\\\\poc_data_sorted\\\\sats_events_2015-06-04-07-44-25_2015-06-05-07-44-25',\n",
       " 'C:\\\\Users\\\\nisagarw\\\\Data\\\\poc_data_sorted\\\\sats_events_2015-06-05-07-44-25_2015-06-06-07-44-25',\n",
       " 'C:\\\\Users\\\\nisagarw\\\\Data\\\\poc_data_sorted\\\\sats_events_2015-06-06-07-44-25_2015-06-07-07-44-25',\n",
       " 'C:\\\\Users\\\\nisagarw\\\\Data\\\\poc_data_sorted\\\\sats_events_2015-06-07-21-51-37_2015-06-08-21-51-37',\n",
       " 'C:\\\\Users\\\\nisagarw\\\\Data\\\\poc_data_sorted\\\\sats_events_2015-06-08-21-51-37_2015-06-09-21-51-37',\n",
       " 'C:\\\\Users\\\\nisagarw\\\\Data\\\\poc_data_sorted\\\\sats_events_2015-06-09-21-51-37_2015-06-10-21-51-37',\n",
       " 'C:\\\\Users\\\\nisagarw\\\\Data\\\\poc_data_sorted\\\\sats_events_2015-06-10-21-51-37_2015-06-11-21-51-37',\n",
       " 'C:\\\\Users\\\\nisagarw\\\\Data\\\\poc_data_sorted\\\\sats_events_2015-06-11-21-51-37_2015-06-12-21-51-37',\n",
       " 'C:\\\\Users\\\\nisagarw\\\\Data\\\\poc_data_sorted\\\\sats_events_2015-06-12-21-51-37_2015-06-13-21-51-37',\n",
       " 'C:\\\\Users\\\\nisagarw\\\\Data\\\\poc_data_sorted\\\\sats_events_2015-06-13-22-18-01_2015-06-14-22-18-01',\n",
       " 'C:\\\\Users\\\\nisagarw\\\\Data\\\\poc_data_sorted\\\\sats_events_2015-06-15-07-26-25_2015-06-16-07-26-25',\n",
       " 'C:\\\\Users\\\\nisagarw\\\\Data\\\\poc_data_sorted\\\\sats_events_2015-06-16-07-26-25_2015-06-17-07-26-25',\n",
       " 'C:\\\\Users\\\\nisagarw\\\\Data\\\\poc_data_sorted\\\\sats_events_2015-06-17-07-26-25_2015-06-18-07-26-25',\n",
       " 'C:\\\\Users\\\\nisagarw\\\\Data\\\\poc_data_sorted\\\\sats_events_2015-06-18-07-26-25_2015-06-19-07-26-25',\n",
       " 'C:\\\\Users\\\\nisagarw\\\\Data\\\\poc_data_sorted\\\\sats_events_2015-06-19-07-26-25_2015-06-20-07-26-25',\n",
       " 'C:\\\\Users\\\\nisagarw\\\\Data\\\\poc_data_sorted\\\\sats_events_2015-06-20-07-26-25_2015-06-21-07-26-25',\n",
       " 'C:\\\\Users\\\\nisagarw\\\\Data\\\\poc_data_sorted\\\\sats_events_2015-06-21-22-59-11_2015-06-22-22-59-11',\n",
       " 'C:\\\\Users\\\\nisagarw\\\\Data\\\\poc_data_sorted\\\\sats_events_2015-06-22-22-59-21_2015-06-23-22-59-21',\n",
       " 'C:\\\\Users\\\\nisagarw\\\\Data\\\\poc_data_sorted\\\\sats_events_2015-06-23-22-59-24_2015-06-24-22-59-24',\n",
       " 'C:\\\\Users\\\\nisagarw\\\\Data\\\\poc_data_sorted\\\\sats_events_2015-06-24-22-59-26_2015-06-25-22-59-26',\n",
       " 'C:\\\\Users\\\\nisagarw\\\\Data\\\\poc_data_sorted\\\\sats_events_2015-06-25-22-59-26_2015-06-26-22-59-26',\n",
       " 'C:\\\\Users\\\\nisagarw\\\\Data\\\\poc_data_sorted\\\\sats_events_2015-06-26-22-59-27_2015-06-27-22-59-27',\n",
       " 'C:\\\\Users\\\\nisagarw\\\\Data\\\\poc_data_sorted\\\\sats_events_2015-06-27-23-26-40_2015-06-28-23-26-40',\n",
       " 'C:\\\\Users\\\\nisagarw\\\\Data\\\\poc_data_sorted\\\\sats_events_2015-06-29-05-51-38_2015-06-30-05-51-38',\n",
       " 'C:\\\\Users\\\\nisagarw\\\\Data\\\\poc_data_sorted\\\\sats_events_2015-06-30-05-51-44_2015-07-01-05-51-44',\n",
       " 'C:\\\\Users\\\\nisagarw\\\\Data\\\\poc_data_sorted\\\\sats_events_2015-07-01-05-51-44_2015-07-02-05-51-44',\n",
       " 'C:\\\\Users\\\\nisagarw\\\\Data\\\\poc_data_sorted\\\\sats_events_2015-07-02-05-52-06_2015-07-03-05-52-06']"
      ]
     },
     "execution_count": 11,
     "metadata": {},
     "output_type": "execute_result"
    }
   ],
   "source": [
    "files2 = [i.replace('poc_data_sorted','poc_data_sorted2') for i in files]"
   ]
  },
  {
   "cell_type": "code",
   "execution_count": 15,
   "metadata": {
    "collapsed": false
   },
   "outputs": [
    {
     "name": "stdout",
     "output_type": "stream",
     "text": [
      "file: 0  done!\n",
      "file: 1  done!\n",
      "file: 2  done!\n",
      "file: 3  done!\n",
      "file: 4  done!\n",
      "file: 5  done!\n",
      "file: 6  done!\n",
      "file: 7  done!\n",
      "file: 8  done!\n",
      "file: 9  done!\n",
      "file: 10  done!\n",
      "file: 11  done!\n",
      "file: 12  done!\n",
      "file: 13  done!\n",
      "file: 14  done!\n",
      "file: 15  done!\n",
      "file: 16  done!\n",
      "file: 17  done!\n",
      "file: 18  done!\n",
      "file: 19  done!\n",
      "file: 20  done!\n",
      "file: 21  done!\n",
      "file: 22  done!\n",
      "file: 23  done!\n",
      "file: 24  done!\n",
      "file: 25  done!\n",
      "file: 26  done!\n",
      "file: 27  done!\n",
      "file: 28  done!\n",
      "file: 29  done!\n"
     ]
    }
   ],
   "source": [
    "k=0\n",
    "for i,j in zip(files,files2):\n",
    "    print(\"file:\",k, \" done!\")\n",
    "    k+=1\n",
    "#     fp = open(i,'r')\n",
    "    with open(i, 'r') as f:\n",
    "        line = f.readlines()[0]\n",
    "    with open(j,'w') as fp:\n",
    "        fp.write(line.replace('}{','}\\n{'))"
   ]
  }
 ],
 "metadata": {
  "anaconda-cloud": {},
  "kernelspec": {
   "display_name": "Python [Root]",
   "language": "python",
   "name": "Python [Root]"
  },
  "language_info": {
   "codemirror_mode": {
    "name": "ipython",
    "version": 3
   },
   "file_extension": ".py",
   "mimetype": "text/x-python",
   "name": "python",
   "nbconvert_exporter": "python",
   "pygments_lexer": "ipython3",
   "version": "3.5.1"
  }
 },
 "nbformat": 4,
 "nbformat_minor": 0
}
